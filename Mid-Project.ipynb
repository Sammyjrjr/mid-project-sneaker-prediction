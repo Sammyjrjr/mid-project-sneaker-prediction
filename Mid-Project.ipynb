{
 "cells": [
  {
   "cell_type": "markdown",
   "id": "680dd9f8",
   "metadata": {},
   "source": [
    "# Midproject: Find the next Hype!?\n",
    "Team: Sammy and Meron"
   ]
  },
  {
   "cell_type": "markdown",
   "id": "0b88ca51",
   "metadata": {},
   "source": [
    "### Goal\n",
    "\n",
    "In this project we will ...."
   ]
  },
  {
   "cell_type": "markdown",
   "id": "0afc5b49",
   "metadata": {},
   "source": [
    "Importing all necessary libraries and reading the data"
   ]
  },
  {
   "cell_type": "code",
   "execution_count": 1,
   "id": "0bf5b812",
   "metadata": {},
   "outputs": [],
   "source": [
    "import numpy as np\n",
    "import pandas as pd\n",
    "import matplotlib.pyplot as plt\n",
    "import seaborn as sns\n",
    "import plotly.express as px\n",
    "import datetime\n",
    "pd.set_option('display.max_columns', None) # displays all columns in dfs\n",
    "\n",
    "import warnings\n",
    "warnings.filterwarnings('ignore')"
   ]
  },
  {
   "cell_type": "code",
   "execution_count": 2,
   "id": "f200a600",
   "metadata": {},
   "outputs": [
    {
     "data": {
      "text/html": [
       "<div>\n",
       "<style scoped>\n",
       "    .dataframe tbody tr th:only-of-type {\n",
       "        vertical-align: middle;\n",
       "    }\n",
       "\n",
       "    .dataframe tbody tr th {\n",
       "        vertical-align: top;\n",
       "    }\n",
       "\n",
       "    .dataframe thead th {\n",
       "        text-align: right;\n",
       "    }\n",
       "</style>\n",
       "<table border=\"1\" class=\"dataframe\">\n",
       "  <thead>\n",
       "    <tr style=\"text-align: right;\">\n",
       "      <th></th>\n",
       "      <th>Order Date</th>\n",
       "      <th>Brand</th>\n",
       "      <th>Sneaker Name</th>\n",
       "      <th>Sale Price</th>\n",
       "      <th>Retail Price</th>\n",
       "      <th>Release Date</th>\n",
       "      <th>Shoe Size</th>\n",
       "      <th>Buyer Region</th>\n",
       "    </tr>\n",
       "  </thead>\n",
       "  <tbody>\n",
       "    <tr>\n",
       "      <th>0</th>\n",
       "      <td>2017-09-01</td>\n",
       "      <td>Yeezy</td>\n",
       "      <td>Adidas-Yeezy-Boost-350-Low-V2-Beluga</td>\n",
       "      <td>1097.0</td>\n",
       "      <td>220</td>\n",
       "      <td>2016-09-24</td>\n",
       "      <td>11.0</td>\n",
       "      <td>California</td>\n",
       "    </tr>\n",
       "    <tr>\n",
       "      <th>1</th>\n",
       "      <td>2017-09-01</td>\n",
       "      <td>Yeezy</td>\n",
       "      <td>Adidas-Yeezy-Boost-350-V2-Core-Black-Copper</td>\n",
       "      <td>685.0</td>\n",
       "      <td>220</td>\n",
       "      <td>2016-11-23</td>\n",
       "      <td>11.0</td>\n",
       "      <td>California</td>\n",
       "    </tr>\n",
       "  </tbody>\n",
       "</table>\n",
       "</div>"
      ],
      "text/plain": [
       "  Order Date   Brand                                 Sneaker Name  Sale Price  Retail Price Release Date  Shoe Size Buyer Region\n",
       "0 2017-09-01   Yeezy         Adidas-Yeezy-Boost-350-Low-V2-Beluga      1097.0           220   2016-09-24       11.0   California\n",
       "1 2017-09-01   Yeezy  Adidas-Yeezy-Boost-350-V2-Core-Black-Copper       685.0           220   2016-11-23       11.0   California"
      ]
     },
     "execution_count": 2,
     "metadata": {},
     "output_type": "execute_result"
    }
   ],
   "source": [
    "stockx = pd.read_excel(\"midprojectfinal.xlsx\")\n",
    "stockx.head(2)"
   ]
  },
  {
   "cell_type": "code",
   "execution_count": 3,
   "id": "2b6b6dfe",
   "metadata": {},
   "outputs": [],
   "source": [
    "stockx.rename(columns=lambda col: col.replace(' ', '_').lower(), inplace=True)"
   ]
  },
  {
   "cell_type": "code",
   "execution_count": 4,
   "id": "29af03a5",
   "metadata": {},
   "outputs": [
    {
     "data": {
      "text/plain": [
       "adidas-Yeezy-Boost-350-V2-Butter                     11423\n",
       "Adidas-Yeezy-Boost-350-V2-Beluga-2pt0                10395\n",
       "Adidas-Yeezy-Boost-350-V2-Zebra                      10110\n",
       "Adidas-Yeezy-Boost-350-V2-Blue-Tint                   9297\n",
       "Adidas-Yeezy-Boost-350-V2-Cream-White                 9097\n",
       "Adidas-Yeezy-Boost-350-V2-Sesame                      5553\n",
       "adidas-Yeezy-Boost-350-V2-Static                      4983\n",
       "Adidas-Yeezy-Boost-350-V2-Semi-Frozen-Yellow          4854\n",
       "Air-Jordan-1-Retro-High-Off-White-University-Blue     4635\n",
       "adidas-Yeezy-Boost-350-V2-Static-Reflective           3184\n",
       "Nike-Air-Presto-Off-White-Black-2018                  1884\n",
       "Nike-Air-Presto-Off-White-White-2018                  1883\n",
       "Nike-Air-VaporMax-Off-White-2018                      1591\n",
       "Nike-Blazer-Mid-Off-White-All-Hallows-Eve             1435\n",
       "Nike-Blazer-Mid-Off-White-Grim-Reaper                 1398\n",
       "Nike-Zoom-Fly-Off-White-Pink                          1359\n",
       "Nike-Air-VaporMax-Off-White-Black                     1313\n",
       "Nike-Zoom-Fly-Off-White-Black-Silver                  1222\n",
       "Nike-Air-Force-1-Low-Off-White-Volt                   1019\n",
       "Adidas-Yeezy-Boost-350-V2-Core-Black-Red-2017          969\n",
       "Nike-Air-Force-1-Low-Off-White-Black-White             960\n",
       "Air-Jordan-1-Retro-High-Off-White-Chicago              755\n",
       "Nike-Air-Max-90-Off-White-Black                        722\n",
       "Nike-Zoom-Fly-Mercurial-Off-White-Total-Orange         656\n",
       "Nike-Air-Max-90-Off-White-Desert-Ore                   649\n",
       "Nike-Zoom-Fly-Mercurial-Off-White-Black                645\n",
       "Nike-Air-Max-90-Off-White                              627\n",
       "Adidas-Yeezy-Boost-350-V2-Core-Black-White             621\n",
       "Nike-Air-Presto-Off-White                              596\n",
       "Nike-Air-Max-97-Off-White                              544\n",
       "Nike-Air-VaporMax-Off-White                            525\n",
       "Nike-Blazer-Mid-Off-White                              501\n",
       "Adidas-Yeezy-Boost-350-Low-V2-Beluga                   498\n",
       "Nike-React-Hyperdunk-2017-Flyknit-Off-White            484\n",
       "Nike-Air-Force-1-Low-Off-White                         476\n",
       "Nike-Zoom-Fly-Off-White                                435\n",
       "Nike-Air-Max-97-Off-White-Menta                        343\n",
       "Air-Jordan-1-Retro-High-Off-White-White                313\n",
       "Adidas-Yeezy-Boost-350-V2-Core-Black-Red               302\n",
       "Nike-Air-Max-97-Off-White-Black                        289\n",
       "Nike-Blazer-Mid-Off-White-Wolf-Grey                    288\n",
       "Adidas-Yeezy-Boost-350-V2-Core-Black-Copper            225\n",
       "Nike-Air-Max-97-Off-White-Elemental-Rose-Queen         216\n",
       "Adidas-Yeezy-Boost-350-V2-Core-Black-Green             196\n",
       "Adidas-Yeezy-Boost-350-Low-Pirate-Black-2016           122\n",
       "Adidas-Yeezy-Boost-350-Low-Moonrock                    100\n",
       "Adidas-Yeezy-Boost-350-Low-Pirate-Black-2015            95\n",
       "Adidas-Yeezy-Boost-350-Low-Oxford-Tan                   70\n",
       "Adidas-Yeezy-Boost-350-Low-Turtledove                   68\n",
       "Nike-Air-Force-1-Low-Virgil-Abloh-Off-White-AF100       31\n",
       "Name: sneaker_name, dtype: int64"
      ]
     },
     "execution_count": 4,
     "metadata": {},
     "output_type": "execute_result"
    }
   ],
   "source": [
    "#We decided not to separate the color from the model as it is an indespensable part of the model\n",
    "\n",
    "stockx[\"sneaker_name\"].value_counts()"
   ]
  },
  {
   "cell_type": "code",
   "execution_count": 5,
   "id": "82167cf3",
   "metadata": {},
   "outputs": [
    {
     "data": {
      "text/html": [
       "<div>\n",
       "<style scoped>\n",
       "    .dataframe tbody tr th:only-of-type {\n",
       "        vertical-align: middle;\n",
       "    }\n",
       "\n",
       "    .dataframe tbody tr th {\n",
       "        vertical-align: top;\n",
       "    }\n",
       "\n",
       "    .dataframe thead th {\n",
       "        text-align: right;\n",
       "    }\n",
       "</style>\n",
       "<table border=\"1\" class=\"dataframe\">\n",
       "  <thead>\n",
       "    <tr style=\"text-align: right;\">\n",
       "      <th></th>\n",
       "      <th>order_date</th>\n",
       "      <th>brand</th>\n",
       "      <th>sneaker_name</th>\n",
       "      <th>sale_price</th>\n",
       "      <th>retail_price</th>\n",
       "      <th>release_date</th>\n",
       "      <th>shoe_size</th>\n",
       "      <th>buyer_region</th>\n",
       "    </tr>\n",
       "  </thead>\n",
       "  <tbody>\n",
       "    <tr>\n",
       "      <th>0</th>\n",
       "      <td>2017-09-01</td>\n",
       "      <td>Yeezy</td>\n",
       "      <td>Adidas-Yeezy-Boost-350-Low-V2-Beluga</td>\n",
       "      <td>1097.0</td>\n",
       "      <td>220</td>\n",
       "      <td>2016-09-24</td>\n",
       "      <td>11.0</td>\n",
       "      <td>California</td>\n",
       "    </tr>\n",
       "    <tr>\n",
       "      <th>1</th>\n",
       "      <td>2017-09-01</td>\n",
       "      <td>Yeezy</td>\n",
       "      <td>Adidas-Yeezy-Boost-350-V2-Core-Black-Copper</td>\n",
       "      <td>685.0</td>\n",
       "      <td>220</td>\n",
       "      <td>2016-11-23</td>\n",
       "      <td>11.0</td>\n",
       "      <td>California</td>\n",
       "    </tr>\n",
       "  </tbody>\n",
       "</table>\n",
       "</div>"
      ],
      "text/plain": [
       "  order_date  brand                                 sneaker_name  sale_price  retail_price release_date  shoe_size buyer_region\n",
       "0 2017-09-01  Yeezy         Adidas-Yeezy-Boost-350-Low-V2-Beluga      1097.0           220   2016-09-24       11.0   California\n",
       "1 2017-09-01  Yeezy  Adidas-Yeezy-Boost-350-V2-Core-Black-Copper       685.0           220   2016-11-23       11.0   California"
      ]
     },
     "execution_count": 5,
     "metadata": {},
     "output_type": "execute_result"
    }
   ],
   "source": [
    "#Cleaning up dataset and removing all blanks from brand\n",
    "stockx[\"brand\"] = stockx[\"brand\"].apply(lambda x: x.strip())\n",
    "stockx.head(2)"
   ]
  },
  {
   "cell_type": "code",
   "execution_count": 6,
   "id": "4b65743c",
   "metadata": {},
   "outputs": [],
   "source": [
    "#Cleaning up dataset and creating identical naming \n",
    "stockx[\"sneaker_name\"] = stockx[\"sneaker_name\"].str.replace(\"adidas\",\"Adidas\")"
   ]
  },
  {
   "cell_type": "code",
   "execution_count": 7,
   "id": "94e6047c",
   "metadata": {},
   "outputs": [
    {
     "name": "stdout",
     "output_type": "stream",
     "text": [
      "<class 'pandas.core.frame.DataFrame'>\n",
      "RangeIndex: 99956 entries, 0 to 99955\n",
      "Data columns (total 8 columns):\n",
      " #   Column        Non-Null Count  Dtype         \n",
      "---  ------        --------------  -----         \n",
      " 0   order_date    99956 non-null  datetime64[ns]\n",
      " 1   brand         99956 non-null  object        \n",
      " 2   sneaker_name  99956 non-null  object        \n",
      " 3   sale_price    99956 non-null  float64       \n",
      " 4   retail_price  99956 non-null  int64         \n",
      " 5   release_date  99956 non-null  datetime64[ns]\n",
      " 6   shoe_size     99956 non-null  float64       \n",
      " 7   buyer_region  99956 non-null  object        \n",
      "dtypes: datetime64[ns](2), float64(2), int64(1), object(3)\n",
      "memory usage: 6.1+ MB\n"
     ]
    }
   ],
   "source": [
    "stockx.info()"
   ]
  },
  {
   "cell_type": "code",
   "execution_count": 8,
   "id": "833334cd",
   "metadata": {},
   "outputs": [
    {
     "data": {
      "text/plain": [
       "(99956, 8)"
      ]
     },
     "execution_count": 8,
     "metadata": {},
     "output_type": "execute_result"
    }
   ],
   "source": [
    "#Dimensions of the dataset\n",
    "stockx.shape"
   ]
  },
  {
   "cell_type": "code",
   "execution_count": 9,
   "id": "61645f79",
   "metadata": {},
   "outputs": [
    {
     "data": {
      "text/plain": [
       "Yeezy        72162\n",
       "Off-White    27794\n",
       "Name: brand, dtype: int64"
      ]
     },
     "execution_count": 9,
     "metadata": {},
     "output_type": "execute_result"
    }
   ],
   "source": [
    "stockx[\"brand\"].value_counts()"
   ]
  },
  {
   "cell_type": "markdown",
   "id": "61eb0782",
   "metadata": {},
   "source": [
    "##### Checking for Nans"
   ]
  },
  {
   "cell_type": "code",
   "execution_count": 10,
   "id": "e9644650",
   "metadata": {},
   "outputs": [
    {
     "data": {
      "text/plain": [
       "order_date      0\n",
       "brand           0\n",
       "sneaker_name    0\n",
       "sale_price      0\n",
       "retail_price    0\n",
       "release_date    0\n",
       "shoe_size       0\n",
       "buyer_region    0\n",
       "dtype: int64"
      ]
     },
     "execution_count": 10,
     "metadata": {},
     "output_type": "execute_result"
    }
   ],
   "source": [
    "stockx.isna().sum()"
   ]
  },
  {
   "cell_type": "markdown",
   "id": "506f8113",
   "metadata": {},
   "source": [
    "Dataset has no nan values."
   ]
  },
  {
   "cell_type": "markdown",
   "id": "58b64c82",
   "metadata": {},
   "source": [
    "### Feature Engineering"
   ]
  },
  {
   "cell_type": "markdown",
   "id": "190dc8c6",
   "metadata": {},
   "source": [
    "#### Price Ratio"
   ]
  },
  {
   "cell_type": "code",
   "execution_count": 11,
   "id": "d47cc244",
   "metadata": {},
   "outputs": [
    {
     "data": {
      "text/html": [
       "<div>\n",
       "<style scoped>\n",
       "    .dataframe tbody tr th:only-of-type {\n",
       "        vertical-align: middle;\n",
       "    }\n",
       "\n",
       "    .dataframe tbody tr th {\n",
       "        vertical-align: top;\n",
       "    }\n",
       "\n",
       "    .dataframe thead th {\n",
       "        text-align: right;\n",
       "    }\n",
       "</style>\n",
       "<table border=\"1\" class=\"dataframe\">\n",
       "  <thead>\n",
       "    <tr style=\"text-align: right;\">\n",
       "      <th></th>\n",
       "      <th>order_date</th>\n",
       "      <th>brand</th>\n",
       "      <th>sneaker_name</th>\n",
       "      <th>sale_price</th>\n",
       "      <th>retail_price</th>\n",
       "      <th>release_date</th>\n",
       "      <th>shoe_size</th>\n",
       "      <th>buyer_region</th>\n",
       "      <th>price_ratio</th>\n",
       "    </tr>\n",
       "  </thead>\n",
       "  <tbody>\n",
       "    <tr>\n",
       "      <th>0</th>\n",
       "      <td>2017-09-01</td>\n",
       "      <td>Yeezy</td>\n",
       "      <td>Adidas-Yeezy-Boost-350-Low-V2-Beluga</td>\n",
       "      <td>1097.0</td>\n",
       "      <td>220</td>\n",
       "      <td>2016-09-24</td>\n",
       "      <td>11.0</td>\n",
       "      <td>California</td>\n",
       "      <td>4.99</td>\n",
       "    </tr>\n",
       "    <tr>\n",
       "      <th>1</th>\n",
       "      <td>2017-09-01</td>\n",
       "      <td>Yeezy</td>\n",
       "      <td>Adidas-Yeezy-Boost-350-V2-Core-Black-Copper</td>\n",
       "      <td>685.0</td>\n",
       "      <td>220</td>\n",
       "      <td>2016-11-23</td>\n",
       "      <td>11.0</td>\n",
       "      <td>California</td>\n",
       "      <td>3.11</td>\n",
       "    </tr>\n",
       "  </tbody>\n",
       "</table>\n",
       "</div>"
      ],
      "text/plain": [
       "  order_date  brand                                 sneaker_name  sale_price  retail_price release_date  shoe_size buyer_region  price_ratio\n",
       "0 2017-09-01  Yeezy         Adidas-Yeezy-Boost-350-Low-V2-Beluga      1097.0           220   2016-09-24       11.0   California         4.99\n",
       "1 2017-09-01  Yeezy  Adidas-Yeezy-Boost-350-V2-Core-Black-Copper       685.0           220   2016-11-23       11.0   California         3.11"
      ]
     },
     "execution_count": 11,
     "metadata": {},
     "output_type": "execute_result"
    }
   ],
   "source": [
    "stockx[\"price_ratio\"] = (stockx[\"sale_price\"]/stockx[\"retail_price\"]).round(2)\n",
    "stockx.head(2)"
   ]
  },
  {
   "cell_type": "markdown",
   "id": "59296b89",
   "metadata": {},
   "source": [
    "#### Time Since Release"
   ]
  },
  {
   "cell_type": "code",
   "execution_count": 12,
   "id": "44807239",
   "metadata": {},
   "outputs": [
    {
     "data": {
      "text/html": [
       "<div>\n",
       "<style scoped>\n",
       "    .dataframe tbody tr th:only-of-type {\n",
       "        vertical-align: middle;\n",
       "    }\n",
       "\n",
       "    .dataframe tbody tr th {\n",
       "        vertical-align: top;\n",
       "    }\n",
       "\n",
       "    .dataframe thead th {\n",
       "        text-align: right;\n",
       "    }\n",
       "</style>\n",
       "<table border=\"1\" class=\"dataframe\">\n",
       "  <thead>\n",
       "    <tr style=\"text-align: right;\">\n",
       "      <th></th>\n",
       "      <th>order_date</th>\n",
       "      <th>brand</th>\n",
       "      <th>sneaker_name</th>\n",
       "      <th>sale_price</th>\n",
       "      <th>retail_price</th>\n",
       "      <th>release_date</th>\n",
       "      <th>shoe_size</th>\n",
       "      <th>buyer_region</th>\n",
       "      <th>price_ratio</th>\n",
       "      <th>time_since_release</th>\n",
       "    </tr>\n",
       "  </thead>\n",
       "  <tbody>\n",
       "    <tr>\n",
       "      <th>0</th>\n",
       "      <td>2017-09-01</td>\n",
       "      <td>Yeezy</td>\n",
       "      <td>Adidas-Yeezy-Boost-350-Low-V2-Beluga</td>\n",
       "      <td>1097.0</td>\n",
       "      <td>220</td>\n",
       "      <td>2016-09-24</td>\n",
       "      <td>11.0</td>\n",
       "      <td>California</td>\n",
       "      <td>4.99</td>\n",
       "      <td>342</td>\n",
       "    </tr>\n",
       "    <tr>\n",
       "      <th>1</th>\n",
       "      <td>2017-09-01</td>\n",
       "      <td>Yeezy</td>\n",
       "      <td>Adidas-Yeezy-Boost-350-V2-Core-Black-Copper</td>\n",
       "      <td>685.0</td>\n",
       "      <td>220</td>\n",
       "      <td>2016-11-23</td>\n",
       "      <td>11.0</td>\n",
       "      <td>California</td>\n",
       "      <td>3.11</td>\n",
       "      <td>282</td>\n",
       "    </tr>\n",
       "  </tbody>\n",
       "</table>\n",
       "</div>"
      ],
      "text/plain": [
       "  order_date  brand                                 sneaker_name  sale_price  retail_price release_date  shoe_size buyer_region  price_ratio  time_since_release\n",
       "0 2017-09-01  Yeezy         Adidas-Yeezy-Boost-350-Low-V2-Beluga      1097.0           220   2016-09-24       11.0   California         4.99                 342\n",
       "1 2017-09-01  Yeezy  Adidas-Yeezy-Boost-350-V2-Core-Black-Copper       685.0           220   2016-11-23       11.0   California         3.11                 282"
      ]
     },
     "execution_count": 12,
     "metadata": {},
     "output_type": "execute_result"
    }
   ],
   "source": [
    "stockx[\"time_since_release\"] = (stockx[\"order_date\"]-stockx[\"release_date\"]).dt.days.astype(\"int64\")\n",
    "stockx.head(2)"
   ]
  },
  {
   "cell_type": "code",
   "execution_count": 13,
   "id": "68f5cc43",
   "metadata": {},
   "outputs": [],
   "source": [
    "#Defining a function for extracting the features models, color and x from the column \"sneaker_name\"\n",
    "\n",
    "def feature_addition(properties):\n",
    "    for i in properties:\n",
    "          stockx[i] = stockx[\"sneaker_name\"].apply(lambda x : 1 if \"i\" in x.split(\"-\") else 0) "
   ]
  },
  {
   "cell_type": "markdown",
   "id": "021dd827",
   "metadata": {},
   "source": [
    "#### Sneaker "
   ]
  },
  {
   "cell_type": "code",
   "execution_count": null,
   "id": "6039ebf1",
   "metadata": {},
   "outputs": [],
   "source": [
    "#how to account for v2 vs 350v2\n",
    "model_names = [\"Adidas\",\"V2\",\"airmax90\",\"airmax97\",\"zoom\",\"presto\",\"airforce\",\"blazer\",\"vapormax\"]\n",
    "\n",
    "stockx[\"model_names\"] = stockx.apply(lambda x: feature_addition(model_names), axis=1) "
   ]
  },
  {
   "cell_type": "code",
   "execution_count": null,
   "id": "a101e214",
   "metadata": {},
   "outputs": [],
   "source": [
    "stockx.head(2)"
   ]
  },
  {
   "cell_type": "markdown",
   "id": "093d740e",
   "metadata": {},
   "source": [
    "#### Colorway"
   ]
  },
  {
   "cell_type": "code",
   "execution_count": null,
   "id": "36cf50ac",
   "metadata": {},
   "outputs": [],
   "source": [
    "colorway = [\"Black\"] #need to white colorway\n",
    "\n",
    "stockx[\"colorway\"] = stockx.apply(lambda x: feature_addition(colorway), axis=1) "
   ]
  },
  {
   "cell_type": "code",
   "execution_count": null,
   "id": "85f54737",
   "metadata": {},
   "outputs": [],
   "source": [
    "#colorway = [\"Black\"] #need to white colorway\n",
    "\n",
    "#for i in colorway:\n",
    "    #stockx[i] = stockx[\"sneaker_name\"].apply(lambda x : 1 if \"i\" in x.split(\"-\") else 0)"
   ]
  },
  {
   "cell_type": "code",
   "execution_count": null,
   "id": "b83e241d",
   "metadata": {},
   "outputs": [],
   "source": [
    "stockx.head(2) #black is not show yet??!"
   ]
  },
  {
   "cell_type": "markdown",
   "id": "742aab8f",
   "metadata": {},
   "source": [
    "#### State"
   ]
  },
  {
   "cell_type": "code",
   "execution_count": null,
   "id": "44b3102a",
   "metadata": {},
   "outputs": [],
   "source": [
    "stockx[\"buyer_region\"].sort_values()"
   ]
  },
  {
   "cell_type": "code",
   "execution_count": null,
   "id": "d88001a2",
   "metadata": {},
   "outputs": [],
   "source": [
    "colorway = [\"California\",\"New York\",\"Florida\",\"Oregon\"] #need to white colorway\n",
    "\n",
    "stockx[\"colorway\"] = stockx.apply(lambda x: feature_addition(colorway), axis=1) "
   ]
  },
  {
   "cell_type": "code",
   "execution_count": null,
   "id": "3a52feed",
   "metadata": {},
   "outputs": [],
   "source": []
  },
  {
   "cell_type": "markdown",
   "id": "85536220",
   "metadata": {},
   "source": [
    "### EDA: Visualization and Descriptive Statistics "
   ]
  },
  {
   "cell_type": "code",
   "execution_count": null,
   "id": "25c47ccc",
   "metadata": {},
   "outputs": [],
   "source": [
    "stockx_num = stockx.select_dtypes(include=np.number)"
   ]
  },
  {
   "cell_type": "code",
   "execution_count": null,
   "id": "241292ce",
   "metadata": {},
   "outputs": [],
   "source": [
    "stockx_cat = stockx.select_dtypes(include=np.object)\n",
    "stockx_cat"
   ]
  },
  {
   "cell_type": "code",
   "execution_count": null,
   "id": "d242d665",
   "metadata": {},
   "outputs": [],
   "source": [
    "stockx.describe().round(1)"
   ]
  },
  {
   "cell_type": "code",
   "execution_count": null,
   "id": "bf56d533",
   "metadata": {},
   "outputs": [],
   "source": [
    "#Correlations"
   ]
  },
  {
   "cell_type": "markdown",
   "id": "3cf151aa",
   "metadata": {},
   "source": [
    "#### Plotting the target variable"
   ]
  },
  {
   "cell_type": "code",
   "execution_count": null,
   "id": "0dcc7e6a",
   "metadata": {},
   "outputs": [],
   "source": [
    "px.histogram(stockx, x=\"sale_price\", title=\"Distribution of sneaker prices\")\n",
    "\n",
    "#sneaker prices are positively skewed"
   ]
  },
  {
   "cell_type": "code",
   "execution_count": null,
   "id": "eb8688e0",
   "metadata": {},
   "outputs": [],
   "source": [
    "px.box(stockx, x=\"sale_price\", title=\"Boxplot of sneaker prices\")\n",
    "\n"
   ]
  },
  {
   "cell_type": "code",
   "execution_count": null,
   "id": "d5956355",
   "metadata": {},
   "outputs": [],
   "source": [
    "px.histogram(stockx,x=\"price_ratio\", y=\"brand\")\n",
    "fig.show()"
   ]
  },
  {
   "cell_type": "code",
   "execution_count": null,
   "id": "0492e3d1",
   "metadata": {},
   "outputs": [],
   "source": [
    "#stockx.corr()"
   ]
  },
  {
   "cell_type": "code",
   "execution_count": null,
   "id": "a80be6f5",
   "metadata": {},
   "outputs": [],
   "source": [
    "plt.scatter(data['ic2'], data['ic3'])"
   ]
  },
  {
   "cell_type": "code",
   "execution_count": null,
   "id": "9dcdd7b3",
   "metadata": {},
   "outputs": [],
   "source": [
    "sns.boxplot(x=\"\", data=data"
   ]
  },
  {
   "cell_type": "code",
   "execution_count": null,
   "id": "976509db",
   "metadata": {},
   "outputs": [],
   "source": [
    "stockx.corr(method='pearson')"
   ]
  },
  {
   "cell_type": "markdown",
   "id": "0bfe53bd",
   "metadata": {},
   "source": [
    "### Lasso Regression"
   ]
  },
  {
   "cell_type": "markdown",
   "id": "be6b9a02",
   "metadata": {},
   "source": [
    "We use lasso regerssion for identifiy the best possible features which we will later use in building our model"
   ]
  },
  {
   "cell_type": "code",
   "execution_count": null,
   "id": "9a45cc31",
   "metadata": {},
   "outputs": [],
   "source": []
  },
  {
   "cell_type": "code",
   "execution_count": null,
   "id": "2b0fb8b5",
   "metadata": {},
   "outputs": [],
   "source": []
  },
  {
   "cell_type": "code",
   "execution_count": null,
   "id": "dbc409e7",
   "metadata": {},
   "outputs": [],
   "source": []
  },
  {
   "cell_type": "code",
   "execution_count": null,
   "id": "5c70e5cf",
   "metadata": {},
   "outputs": [],
   "source": []
  },
  {
   "cell_type": "code",
   "execution_count": null,
   "id": "e49e0693",
   "metadata": {},
   "outputs": [],
   "source": []
  },
  {
   "cell_type": "code",
   "execution_count": null,
   "id": "e0cf0f37",
   "metadata": {},
   "outputs": [],
   "source": []
  },
  {
   "cell_type": "code",
   "execution_count": null,
   "id": "fd106f0b",
   "metadata": {},
   "outputs": [],
   "source": []
  },
  {
   "cell_type": "markdown",
   "id": "29da2cb8",
   "metadata": {},
   "source": [
    "### Linear Models"
   ]
  },
  {
   "cell_type": "code",
   "execution_count": null,
   "id": "546d8106",
   "metadata": {},
   "outputs": [],
   "source": [
    "from sklearn.model_selection import train_test_split"
   ]
  },
  {
   "cell_type": "code",
   "execution_count": null,
   "id": "dfe421d8",
   "metadata": {},
   "outputs": [],
   "source": [
    "X_train, X_test, y_train, y_test = train_test_split(X,y, test_size= 0.2, random_state=0)"
   ]
  },
  {
   "cell_type": "code",
   "execution_count": null,
   "id": "7b3ff98e",
   "metadata": {},
   "outputs": [],
   "source": [
    "display(X_train.head(3)"
   ]
  },
  {
   "cell_type": "markdown",
   "id": "7ee2c6ee",
   "metadata": {},
   "source": [
    "#### Linear Regression"
   ]
  },
  {
   "cell_type": "code",
   "execution_count": null,
   "id": "48ef3aec",
   "metadata": {},
   "outputs": [],
   "source": [
    "y_pred_train = regressor.predict(X_train)\n",
    "y_pred_train"
   ]
  },
  {
   "cell_type": "code",
   "execution_count": null,
   "id": "8c30b216",
   "metadata": {},
   "outputs": [],
   "source": [
    "y_pred_test = regressor.predict(X_test)\n",
    "y_pred_test"
   ]
  },
  {
   "cell_type": "code",
   "execution_count": null,
   "id": "89c016b9",
   "metadata": {},
   "outputs": [],
   "source": [
    "Validation"
   ]
  },
  {
   "cell_type": "code",
   "execution_count": null,
   "id": "2c643c7b",
   "metadata": {},
   "outputs": [],
   "source": [
    "from sklearn.metrics import mean_squared_error\n",
    "from sklearn.metrics import mean_absolute_error\n",
    "from sklearn.metrics import r2_score"
   ]
  },
  {
   "cell_type": "code",
   "execution_count": null,
   "id": "ad0e9953",
   "metadata": {},
   "outputs": [],
   "source": [
    "print(\"--- Performances of the model ---\")\n",
    "print(\"the r2 score on train  :\", regressor.score(X_train, y_train))\n",
    "print(\"the r2 score on test  :\", regressor.score(X_test, y_test))"
   ]
  },
  {
   "cell_type": "code",
   "execution_count": null,
   "id": "370d1575",
   "metadata": {},
   "outputs": [],
   "source": [
    "y_pred = regressor.predict(X)"
   ]
  },
  {
   "cell_type": "code",
   "execution_count": null,
   "id": "f64e04a7",
   "metadata": {},
   "outputs": [],
   "source": [
    "r2 = r2_score(y, y_pred)\n",
    "mse = mean_squared_error(y, y_pred, squared=True)\n",
    "rmse = mean_squared_error(y, y_pred, squared=False)\n",
    "mae = mean_absolute_error(y, y_pred)\n",
    "\n",
    "print(\"R2_score:\", r2)\n",
    "print(\"MSE:\", mse)\n",
    "print(\"RMSE:\", rmse)\n",
    "print(\"MAE:\", mae)"
   ]
  },
  {
   "cell_type": "code",
   "execution_count": null,
   "id": "9edf833d",
   "metadata": {},
   "outputs": [],
   "source": [
    "4.3 Function for Various Models"
   ]
  },
  {
   "cell_type": "code",
   "execution_count": null,
   "id": "f5cb2a07",
   "metadata": {},
   "outputs": [],
   "source": [
    "from sklearn.linear_model import Ridge, Lasso\n",
    "from sklearn.preprocessing import StandardScaler, PolynomialFeatures\n",
    "from sklearn.neighbors import KNeighborsRegressor\n",
    "from sklearn.neural_network import MLPRegressor\n",
    "from sklearn.model_selection import GridSearchCV #in case we want to find Lasso's optimal alpha\n",
    "import matplotlib.pyplot as plt\n",
    "import seaborn as sns"
   ]
  },
  {
   "cell_type": "code",
   "execution_count": null,
   "id": "b5e24ec1",
   "metadata": {},
   "outputs": [],
   "source": [
    "def model_application_and_evaluation(scaler, model, X_train, X_test, y_train, y_test):\n",
    "    X_train = scaler.fit_transform(X_train)\n",
    "    X_test = scaler.transform(X_test)\n",
    "    model.fit(X_train,y_train)\n",
    "    print(\"score on train set:\", model.score(X_train, y_train))\n",
    "    print(\"score on test set:\", model.score(X_test, y_test))"
   ]
  },
  {
   "cell_type": "code",
   "execution_count": null,
   "id": "8c163b96",
   "metadata": {},
   "outputs": [],
   "source": [
    "#defining different scalers\n",
    "scaler1 = StandardScaler()\n",
    "scaler2 = MinMaxScaler()\n",
    "scaler3 = PolynomialFeatures(degree=2, interaction_only=True)"
   ]
  },
  {
   "cell_type": "code",
   "execution_count": null,
   "id": "a7030069",
   "metadata": {},
   "outputs": [],
   "source": [
    "#defining different models\n",
    "baseline_regression = LinearRegression()\n",
    "ridge = Ridge(alpha=0.3) #L2 regularizer #hyperparameters\n",
    "lasso = Lasso (alpha=0.1) #L1 regularizer\n",
    "knn = KNeighborsRegressor(n_neighbors=3)\n",
    "mlp = MLPRegressor(random_state=1, max_iter=500)"
   ]
  },
  {
   "cell_type": "code",
   "execution_count": null,
   "id": "5d67105f",
   "metadata": {},
   "outputs": [],
   "source": [
    "model_application_and_evaluation(scaler1, baseline_regression, X_train, X_test, y_train, y_test)\n"
   ]
  },
  {
   "cell_type": "code",
   "execution_count": null,
   "id": "f6b9d607",
   "metadata": {},
   "outputs": [],
   "source": [
    "model_application_and_evaluation(scaler2, baseline_regression, X_train, X_test, y_train, y_test)\n"
   ]
  },
  {
   "cell_type": "code",
   "execution_count": null,
   "id": "baf2a132",
   "metadata": {},
   "outputs": [],
   "source": [
    "model_application_and_evaluation(scaler3, baseline_regression, X_train, X_test, y_train, y_test)\n"
   ]
  },
  {
   "cell_type": "code",
   "execution_count": null,
   "id": "063747d4",
   "metadata": {},
   "outputs": [],
   "source": []
  },
  {
   "cell_type": "code",
   "execution_count": null,
   "id": "d0c14deb",
   "metadata": {},
   "outputs": [],
   "source": []
  },
  {
   "cell_type": "code",
   "execution_count": null,
   "id": "ba34c871",
   "metadata": {},
   "outputs": [],
   "source": []
  },
  {
   "cell_type": "code",
   "execution_count": null,
   "id": "7a1dc9f6",
   "metadata": {},
   "outputs": [],
   "source": []
  },
  {
   "cell_type": "code",
   "execution_count": null,
   "id": "7bd75a51",
   "metadata": {},
   "outputs": [],
   "source": []
  },
  {
   "cell_type": "code",
   "execution_count": null,
   "id": "b9821506",
   "metadata": {},
   "outputs": [],
   "source": []
  },
  {
   "cell_type": "code",
   "execution_count": null,
   "id": "0a75f904",
   "metadata": {},
   "outputs": [],
   "source": []
  },
  {
   "cell_type": "code",
   "execution_count": null,
   "id": "bd30f08f",
   "metadata": {},
   "outputs": [],
   "source": []
  },
  {
   "cell_type": "code",
   "execution_count": null,
   "id": "b8e98f9b",
   "metadata": {},
   "outputs": [],
   "source": []
  },
  {
   "cell_type": "code",
   "execution_count": null,
   "id": "a39d4964",
   "metadata": {},
   "outputs": [],
   "source": [
    "df_cat =df.select_dtypes(include=np.object)\n",
    "df_cat"
   ]
  }
 ],
 "metadata": {
  "kernelspec": {
   "display_name": "Python 3 (ipykernel)",
   "language": "python",
   "name": "python3"
  },
  "language_info": {
   "codemirror_mode": {
    "name": "ipython",
    "version": 3
   },
   "file_extension": ".py",
   "mimetype": "text/x-python",
   "name": "python",
   "nbconvert_exporter": "python",
   "pygments_lexer": "ipython3",
   "version": "3.9.12"
  }
 },
 "nbformat": 4,
 "nbformat_minor": 5
}
